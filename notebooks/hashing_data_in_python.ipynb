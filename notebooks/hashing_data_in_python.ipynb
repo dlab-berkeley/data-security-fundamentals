{
 "cells": [
  {
   "cell_type": "markdown",
   "metadata": {},
   "source": [
    "# Hashing Data in Python \n",
    "## with the libraries  Hashlib, secrets and HMAC\n",
    "\n",
    "Hashing is a way to maintain information while masking personally identifiable information (PII).\n",
    "\n",
    "A hashed value is one that has been replaced with meaningless characters. \n",
    "\n",
    "In many cases, you will want multiple instances of the same value, eg an email address, to have the same hashed value. This allows you to identify unique individuals and match their data without knowing the true values for these variables.\n",
    "\n",
    "Hashing requires a hashing algorithm and a `salt` value. Salting adds random data to the input of a hash function to guarantee a unique output, `the hash`. This further masks the PII values.\n",
    "\n",
    "- Hashing with the same salt will always return the same hash output for the same input.\n",
    "- Don't use the same salt for every value in the table.\n",
    "\n",
    "Protect the salt since with it one can un-hash the data.\n",
    "\n",
    "Hashing is one way, you typically don't unhash. You store the restricted use data on a secure server and distribute the hashed data to a less secure server/computer for analysis.\n",
    "\n",
    "A cryptographic salt is made up of random bits added to each password instance before its hashing.\n"
   ]
  },
  {
   "cell_type": "code",
   "execution_count": 1,
   "metadata": {},
   "outputs": [],
   "source": [
    "#==============================================================================#\n",
    "# ==> Imports\n",
    "# APPENDIX : HMAC PYTHON EXAMPLE\n",
    "#==============================================================================#\n",
    "import hashlib \n",
    "import hmac \n",
    "import math\n",
    "import secrets # use Python 3.6 secrets package to generate random token\n",
    "import sys"
   ]
  },
  {
   "cell_type": "code",
   "execution_count": 2,
   "metadata": {},
   "outputs": [
    {
     "name": "stdout",
     "output_type": "stream",
     "text": [
      "token: 5d5bb84ec158e38cfa77286640c799ce560660172880f5a679678e29b6ee4dc6; length = 64\n"
     ]
    }
   ],
   "source": [
    "#==============================================================================#\n",
    "# ==> Generate salt\n",
    "#==============================================================================#\n",
    "# declare variables \n",
    "token_hex = None \n",
    "token_int = None\n",
    "token_bit_count = -1\n",
    "token_byte_count = -1 \n",
    "token_bytes= None \n",
    "salt_hash = None\n",
    "salt = None\n",
    "\n",
    "# Create random hexadecimal token of default size (32 bytes, 64 hex digits) \n",
    "token_hex = secrets.token_hex()\n",
    "\n",
    "# View the token and its length\n",
    "print( \"token: \" + token_hex + \"; length = \" + str( len( token_hex ) ) )"
   ]
  },
  {
   "cell_type": "code",
   "execution_count": 3,
   "metadata": {},
   "outputs": [
    {
     "name": "stdout",
     "output_type": "stream",
     "text": [
      "Default token int: 42227150045704095646362307474182794411380520596895119484424968588593411804614\n"
     ]
    }
   ],
   "source": [
    "# convert the token to an integer \n",
    "##\n",
    "## NOTE - PLF cannot find this reference\n",
    "## Tyler Springer provides a good overview of this process in AWS using Open Source tools (Springer,\n",
    "##2016): http://tylerspringer.com/destroying-sensitive-information-stored-in-aws/\n",
    "##\n",
    "\n",
    "#token_int = int(token_hex, 1 )\n",
    "\n",
    "token_int = int(token_hex, 16) # hex is base 16\n",
    "print( \"Default token int: \" + str( token_int ) )\n"
   ]
  },
  {
   "cell_type": "code",
   "execution_count": 4,
   "metadata": {},
   "outputs": [
    {
     "name": "stdout",
     "output_type": "stream",
     "text": [
      "token bit count = 255\n",
      "token byte count = 32\n",
      "token bytes = b'\\xc6M\\xee\\xb6)\\x8egy\\xa6\\xf5\\x80(\\x17`\\x06V\\xce\\x99\\xc7@f(w\\xfa\\x8c\\xe3X\\xc1N\\xb8[]'\n",
      "salt: b97e5f579a08610a0378ece1a02a2974f5495736953a27cbb9db96869bb31a28; type = <class 'str'>\n"
     ]
    }
   ],
   "source": [
    "# get bit count\n",
    "token_bit_count = token_int.bit_length()\n",
    "print( \"token bit count = \" + str( token_bit_count ) )\n",
    "\n",
    "# get byte count\n",
    "token_byte_count = token_bit_count / 8 \n",
    "token_byte_count = math.ceil( token_byte_count ) \n",
    "token_byte_count = int(token_byte_count ) \n",
    "print( \"token byte count = \" + str(token_byte_count ) )\n",
    "\n",
    "# convert the integer value to bytes\n",
    "token_bytes = token_int.to_bytes( token_byte_count, byteorder = sys.byteorder ) \n",
    "print(\"token bytes = \" + str( token_bytes ) )\n",
    "\n",
    "# Use hashlib to create a salt value from the token\n",
    "salt_hash = hashlib.sha256( token_bytes ) \n",
    "salt = salt_hash.hexdigest() \n",
    "print( \"salt: \" + str( salt ) + \"; type = \" + str(type( salt ) ) )"
   ]
  },
  {
   "cell_type": "code",
   "execution_count": 5,
   "metadata": {},
   "outputs": [],
   "source": [
    "#==============================================================================# \n",
    "# ==> Hash using salt and HMAC\n",
    "#==============================================================================#\n",
    "# declare variables \n",
    "salt_IN = None\n",
    "message_IN = None \n",
    "sha256_instance = None \n",
    "encoded_passphrase = None\n",
    "passphrase_hash = None\n",
    "encoded_message = None\n",
    "hmac_key_hash_instance = None\n",
    "hmac_key = None\n",
    "\n",
    "# set salt (from above) and message\n",
    "salt_IN = salt\n",
    "message_IN = \"donkey\"\n",
    "\n",
    "# ==> convert salt to encryption key\n",
    "# get hasher \n",
    "sha256_instance = hashlib.sha256()\n",
    "\n",
    "# update it with the message\n",
    "encoded_passphrase = salt_IN.encode( \"utf-8\" ) \n",
    "sha256_instance.update(encoded_passphrase )\n",
    "\n",
    "# get digest \n",
    "passphrase_hash = sha256_instance.digest() \n",
    "\n",
    "# store as key\n",
    "hmac_key_hash_instance = sha256_instance \n",
    "hmac_key = passphrase_hash\n",
    "\n",
    "# ==> hash message with HMAC and salt key\n",
    "# encode \n",
    "encoded_message = message_IN.encode( \"utf8\" )\n",
    "\n",
    "# make hmac_instance with key, message, and hash function.\n",
    "hmac_instance = hmac.new( hmac_key, encoded_message, digestmod = hashlib.sha256 )\n",
    "\n",
    "# perform hash. \n",
    "value_OUT = hmac_instance.hexdigest()"
   ]
  },
  {
   "cell_type": "code",
   "execution_count": 6,
   "metadata": {},
   "outputs": [
    {
     "data": {
      "text/plain": [
       "'04f1157e0a6af1ed5d7b18647723dd54996810b53475fe365d03f84cd31ef8ac'"
      ]
     },
     "execution_count": 6,
     "metadata": {},
     "output_type": "execute_result"
    }
   ],
   "source": [
    "value_OUT"
   ]
  },
  {
   "cell_type": "markdown",
   "metadata": {},
   "source": [
    "### Create a function that will generate a random salt string value."
   ]
  },
  {
   "cell_type": "code",
   "execution_count": 7,
   "metadata": {},
   "outputs": [],
   "source": [
    "def get_random_salt_str():\n",
    "    '''\n",
    "    Generate salt using secrets library\n",
    "    '''\n",
    "\n",
    "    # declare variables \n",
    "    token_hex = None \n",
    "    token_int = None\n",
    "    token_bit_count = -1\n",
    "    token_byte_count = -1 \n",
    "    token_bytes= None \n",
    "    salt_hash = None\n",
    "    salt = None\n",
    "\n",
    "    # Create random hexadecimal token of default size (32 bytes, 64 hex digits) \n",
    "    token_hex = secrets.token_hex()\n",
    "\n",
    "    # View the token and its length\n",
    "    #print( \"token: \" + token_hex + \"; length = \" + str( len( token_hex ) ) )\n",
    "    \n",
    "    # convert the token to an integer \n",
    "    #token_int = int(token_hex, 1 )\n",
    "\n",
    "    token_int = int(token_hex, 16) # hex is base 16\n",
    "    #print( \"Default token int: \" + str( token_int ) )\n",
    "    \n",
    "    # get bit count\n",
    "    token_bit_count = token_int.bit_length()\n",
    "    #print( \"token bit count = \" + str( token_bit_count ) )\n",
    "\n",
    "    # get byte count\n",
    "    token_byte_count = token_bit_count / 8 \n",
    "    token_byte_count = math.ceil( token_byte_count ) \n",
    "    token_byte_count = int(token_byte_count ) \n",
    "    #print( \"token byte count = \" + str(token_byte_count ) )\n",
    "\n",
    "    # convert the integer value to bytes\n",
    "    token_bytes = token_int.to_bytes( token_byte_count, byteorder = sys.byteorder ) \n",
    "    #print(\"token bytes = \" + str( token_bytes ) )\n",
    "\n",
    "    # Use hashlib to create a salt value from the token\n",
    "    salt_hash = hashlib.sha256( token_bytes ) \n",
    "    salt = salt_hash.hexdigest() \n",
    "    #print( \"salt: \" + str( salt ) + \"; type = \" + str(type( salt ) ) )\n",
    "    return salt\n",
    "    "
   ]
  },
  {
   "cell_type": "code",
   "execution_count": 8,
   "metadata": {},
   "outputs": [
    {
     "data": {
      "text/plain": [
       "'fddff5268af7b532acba782f07987a8098c644e6b8ca68e21528c3f41513a470'"
      ]
     },
     "execution_count": 8,
     "metadata": {},
     "output_type": "execute_result"
    }
   ],
   "source": [
    "# This function should always return a new random string\n",
    "get_random_salt_str()"
   ]
  },
  {
   "cell_type": "code",
   "execution_count": 9,
   "metadata": {},
   "outputs": [
    {
     "name": "stdout",
     "output_type": "stream",
     "text": [
      "1 de9a9591831b5aa78cd8618d6cfe7cdfe3671db434338ea16bb40a0926ab8882\n",
      "2 0e96a6cf9d4898af71db11ad80925b8d93a644143389907d50218fe9c8e3b67a\n",
      "3 ba4726bd3c8d993698231dd3e0938090052c83fe62d5e4114600f6241e0dc2a1\n",
      "4 21c3633b8a995a878b6361afde8c696a59e6355bb5cc963800bf5d7edb057960\n",
      "5 5d8d5391df630b4b8b65b307ee3d67e621802005ccc7f26298c2c0a7e9b39a96\n",
      "6 7c508410f31a5aa7878ad3806584b021b3aeaf38f7fb78a0bd1370cacb423f00\n",
      "7 59cf2096fcf0125df655ab486780a3c05d95727cbea8ba2be77a0d8fbb9a8b6a\n",
      "8 8d4b01857221d640dd68046149e9a0a1ec3f76f80e2dc6792a08e7e358f261d7\n",
      "9 25d9e17467b9dd25011cad291861f6eb325e05de711e9bc22a8c0af3a804aed2\n"
     ]
    }
   ],
   "source": [
    "# Check\n",
    "for i in range(1,10):\n",
    "    print(str(i), get_random_salt_str())"
   ]
  },
  {
   "cell_type": "code",
   "execution_count": 10,
   "metadata": {},
   "outputs": [
    {
     "name": "stdout",
     "output_type": "stream",
     "text": [
      "1 b6f0fdbba2fa2915a63981d074c3638df443a54c2c1149980d0a7339079de441\n",
      "2 75290f42017279cedcf3ed5b37c41ebde2f0bb23a22f5d3a20eabe9c93893978\n",
      "3 d18a09759f0b5113a7cd67e7afd44428f7644df723dbdf30b87197ef3c0a4434\n",
      "4 b6b66b989078fd62f5ea74ace461323089af8b056b33b425f6c4941a406a5109\n",
      "5 7a875afdb8c6e27f02b2d74a14e02f1bc780c5e9dbc6bde7bbbb16ce192f1781\n",
      "6 b9ab63abe2fb1e2126c38ddba2b3c5930ed001bc6093a3fb2f2df29c9d7eccc4\n",
      "7 d09891320d1780077b1d2f27eb2e6b12b913f5782d9e62d981ad4ca6f375b9dc\n",
      "8 ebe739c2f23a6d6787dcab9d5a58e00b40a35534a1540b9d0eee7aab9378f94a\n",
      "9 5bc40cd26d1d8c6ab32637a4144841e041b702f0ddb24a4199218de7b6e62cc0\n"
     ]
    }
   ],
   "source": [
    "# Check - if we run again do we get the same values\n",
    "for i in range(1,10):\n",
    "    print(str(i), get_random_salt_str())"
   ]
  },
  {
   "cell_type": "markdown",
   "metadata": {},
   "source": [
    "### Create a function to return a hashed value given a specified salt value"
   ]
  },
  {
   "cell_type": "code",
   "execution_count": 11,
   "metadata": {},
   "outputs": [],
   "source": [
    "def get_hashed_value(value_to_hash, salt):\n",
    "\n",
    "    '''Hash using a salt and HMAC'''\n",
    "    \n",
    "    # set salt and message\n",
    "    salt_IN = salt\n",
    "    message_IN = value_to_hash\n",
    "    \n",
    "    # declare variables \n",
    "    sha256_instance = None \n",
    "    encoded_passphrase = None\n",
    "    passphrase_hash = None\n",
    "    encoded_message = None\n",
    "    hmac_key_hash_instance = None\n",
    "    hmac_key = None\n",
    "\n",
    "    ######################################\n",
    "    # ==> convert salt to encryption key\n",
    "    ######################################\n",
    "    # get hasher \n",
    "    sha256_instance = hashlib.sha256()\n",
    "\n",
    "    # update it with the message\n",
    "    encoded_passphrase = salt_IN.encode( \"utf-8\" ) \n",
    "    sha256_instance.update(encoded_passphrase )\n",
    "\n",
    "    # get digest \n",
    "    passphrase_hash = sha256_instance.digest() \n",
    "\n",
    "    # store as key\n",
    "    hmac_key_hash_instance = sha256_instance \n",
    "    hmac_key = passphrase_hash\n",
    "\n",
    "    ##########################################\n",
    "    # ==> hash message with HMAC and salt key\n",
    "    ###########################################\n",
    "    # encode \n",
    "    encoded_message = message_IN.encode( \"utf8\" )\n",
    "\n",
    "    # make hmac_instance with key, message, and hash function.\n",
    "    hmac_instance = hmac.new( hmac_key, encoded_message, digestmod = hashlib.sha256 )\n",
    "\n",
    "    # perform hash. \n",
    "    value_OUT = hmac_instance.hexdigest()\n",
    "    \n",
    "    return value_OUT"
   ]
  },
  {
   "cell_type": "code",
   "execution_count": 12,
   "metadata": {},
   "outputs": [
    {
     "name": "stdout",
     "output_type": "stream",
     "text": [
      "donkey, hashed: 2f826e27bee3b91acb9164a8eb854ccaba8d179ff480b64d4778ac84f7bf2a15\n",
      "donkey, hashed: 2f826e27bee3b91acb9164a8eb854ccaba8d179ff480b64d4778ac84f7bf2a15\n",
      "peanut, hashed: c075913a175718c2d3d9a9d2015a2b1aa36a40cec4d47f6d3e92f666737239dc\n",
      "peanut, hashed: c075913a175718c2d3d9a9d2015a2b1aa36a40cec4d47f6d3e92f666737239dc\n"
     ]
    }
   ],
   "source": [
    "# The same value hased with the same salt will return the same hashed value\n",
    "# The same value hashed with a different salt will return a different hashed value\n",
    "print(\"donkey, hashed:\", get_hashed_value('donkey', 'salty_salt_string'))\n",
    "print(\"donkey, hashed:\", get_hashed_value('donkey', 'salty_salt_string'))\n",
    "print(\"peanut, hashed:\", get_hashed_value('peanut', 'salty_salt_string'))\n",
    "print(\"peanut, hashed:\", get_hashed_value('peanut', 'salty_salt_string'))"
   ]
  },
  {
   "cell_type": "code",
   "execution_count": 13,
   "metadata": {},
   "outputs": [
    {
     "name": "stdout",
     "output_type": "stream",
     "text": [
      "donkey, hashed: 41aa6e06d6f5640ce702a2cc2f7a6279d97a0f40745d6fa08b7fad8509e59a2f\n",
      "donkey, hashed: 84bb701fd3cfcca12eeb3b8903d39223d015609861347908e19f6568e84ab001\n",
      "peanut, hashed: 168e41d85f5149887c008ce70aec9bad0c813ac29f3c124afe6a38bb6071727a\n",
      "peanut, hashed: 9367d38ae27b1f23390e95d690d62390dabc807e225e36113444d51f7b41d147\n"
     ]
    }
   ],
   "source": [
    "# The same value hashed with a different salt will return a different hashed value\n",
    "print(\"donkey, hashed:\", get_hashed_value('donkey', get_random_salt_str()))\n",
    "print(\"donkey, hashed:\", get_hashed_value('donkey', get_random_salt_str()))\n",
    "print(\"peanut, hashed:\", get_hashed_value('peanut', get_random_salt_str()))\n",
    "print(\"peanut, hashed:\", get_hashed_value('peanut', get_random_salt_str()))"
   ]
  },
  {
   "cell_type": "markdown",
   "metadata": {},
   "source": [
    "# Example: Applying Keyed Hashing to a pandas dataframe\n"
   ]
  },
  {
   "cell_type": "code",
   "execution_count": 14,
   "metadata": {},
   "outputs": [
    {
     "name": "stdout",
     "output_type": "stream",
     "text": [
      "INPUT DF\n",
      "              email gender  age  income  country userid\n",
      "0  albert@gmail.com   male   20   25000  Germany    101\n",
      "1  bree@hotmail.com   male   21   34000  Germany    666\n",
      "2    titan@live.com   male   19   31000  Germany   3344\n",
      "3    epic@yahoo.com   male   18   10000   Sweden   1212\n",
      "4  albert@gmail.com   them   66   50000      USA    101\n"
     ]
    }
   ],
   "source": [
    "import pandas as pd\n",
    "\n",
    "# Create a test dataframe\n",
    "data = {'email':['albert@gmail.com', 'bree@hotmail.com', 'titan@live.com', 'epic@yahoo.com','albert@gmail.com'],\n",
    "        'gender':['male', 'male', 'male', 'male','them'],\n",
    "        'age':[20, 21, 19, 18, 66],\n",
    "        'income':[25000, 34000, 31000, 10000, 50000],\n",
    "        'country':['Germany', 'Germany', 'Germany', 'Sweden','USA'],\n",
    "        'userid':['101', '666', '3344', '1212','101'],\n",
    "        } \n",
    "df = pd.DataFrame(data)\n",
    "\n",
    "# Print out the dataframe\n",
    "print(\"INPUT DF\")\n",
    "print(df)"
   ]
  },
  {
   "cell_type": "code",
   "execution_count": 15,
   "metadata": {},
   "outputs": [
    {
     "name": "stdout",
     "output_type": "stream",
     "text": [
      "\n",
      " albert@gmail.com HASHED ALREADY - CHECK OUTPUT HASHED DF to make sure values are the same\n",
      "\n",
      " 101 HASHED ALREADY - CHECK OUTPUT HASHED DF to make sure values are the same\n",
      "\n",
      "\n",
      "HASHED DF\n",
      "                                               email gender  age  income  \\\n",
      "0  d02c4feb89fab9a428c16203489519e00317e4fcd3e85d...   male   20   25000   \n",
      "1  5fecfef10c899850aeb2bb9c30d2de3a92c88980485c45...   male   21   34000   \n",
      "2  87af91b179f43ce8f54ccca0c64cc435efb05dbea8f5db...   male   19   31000   \n",
      "3  9920fd51bf1d8c0f30f73e5dee53ce17c99eeaddd4991d...   male   18   10000   \n",
      "4  d02c4feb89fab9a428c16203489519e00317e4fcd3e85d...   them   66   50000   \n",
      "\n",
      "   country                                             userid  \n",
      "0  Germany  1b7d4dde3ee311d5d1841a5f82b2515af6f7300ff1f472...  \n",
      "1  Germany  9a2aa3e0049ca6de079a2b25e14bbb9f01cf68c00a8fab...  \n",
      "2  Germany  c1925ed7961a3061724c2435ca09508e6f140d3aa6150a...  \n",
      "3   Sweden  52b4dbee53e28d5732b37a029b9a20391352a1ea69fe5d...  \n",
      "4      USA  1b7d4dde3ee311d5d1841a5f82b2515af6f7300ff1f472...  \n",
      "\n",
      "\n",
      "SECRET SAUCE\n"
     ]
    },
    {
     "data": {
      "text/html": [
       "<div>\n",
       "<style scoped>\n",
       "    .dataframe tbody tr th:only-of-type {\n",
       "        vertical-align: middle;\n",
       "    }\n",
       "\n",
       "    .dataframe tbody tr th {\n",
       "        vertical-align: top;\n",
       "    }\n",
       "\n",
       "    .dataframe thead th {\n",
       "        text-align: right;\n",
       "    }\n",
       "</style>\n",
       "<table border=\"1\" class=\"dataframe\">\n",
       "  <thead>\n",
       "    <tr style=\"text-align: right;\">\n",
       "      <th></th>\n",
       "      <th>hashed_col</th>\n",
       "      <th>hashed_IN</th>\n",
       "      <th>hashed_val</th>\n",
       "      <th>salt</th>\n",
       "    </tr>\n",
       "  </thead>\n",
       "  <tbody>\n",
       "    <tr>\n",
       "      <th>0</th>\n",
       "      <td>email</td>\n",
       "      <td>albert@gmail.com</td>\n",
       "      <td>d02c4feb89fab9a428c16203489519e00317e4fcd3e85d...</td>\n",
       "      <td>fb958ec61e72e2090f9aa67174cc10edcb0128b045d407...</td>\n",
       "    </tr>\n",
       "    <tr>\n",
       "      <th>1</th>\n",
       "      <td>email</td>\n",
       "      <td>bree@hotmail.com</td>\n",
       "      <td>5fecfef10c899850aeb2bb9c30d2de3a92c88980485c45...</td>\n",
       "      <td>477533867f1ab38888d85f63a15d7ced893d09abc81cf5...</td>\n",
       "    </tr>\n",
       "    <tr>\n",
       "      <th>2</th>\n",
       "      <td>email</td>\n",
       "      <td>titan@live.com</td>\n",
       "      <td>87af91b179f43ce8f54ccca0c64cc435efb05dbea8f5db...</td>\n",
       "      <td>81e1ae6e4205466996335560162a39fe377559562a9319...</td>\n",
       "    </tr>\n",
       "    <tr>\n",
       "      <th>3</th>\n",
       "      <td>email</td>\n",
       "      <td>epic@yahoo.com</td>\n",
       "      <td>9920fd51bf1d8c0f30f73e5dee53ce17c99eeaddd4991d...</td>\n",
       "      <td>037fc1fc86aeba84fe52b34ad162efe4e83e18cf01dec3...</td>\n",
       "    </tr>\n",
       "    <tr>\n",
       "      <th>4</th>\n",
       "      <td>userid</td>\n",
       "      <td>101</td>\n",
       "      <td>1b7d4dde3ee311d5d1841a5f82b2515af6f7300ff1f472...</td>\n",
       "      <td>3e5bf11a61a5d9e33073c13d1500c15c097f66f217e1ee...</td>\n",
       "    </tr>\n",
       "    <tr>\n",
       "      <th>5</th>\n",
       "      <td>userid</td>\n",
       "      <td>666</td>\n",
       "      <td>9a2aa3e0049ca6de079a2b25e14bbb9f01cf68c00a8fab...</td>\n",
       "      <td>44e7b27b5671483559489ac1ceee0f722215046efc4eb2...</td>\n",
       "    </tr>\n",
       "    <tr>\n",
       "      <th>6</th>\n",
       "      <td>userid</td>\n",
       "      <td>3344</td>\n",
       "      <td>c1925ed7961a3061724c2435ca09508e6f140d3aa6150a...</td>\n",
       "      <td>2686b71a70ec7fea431eccfb556f08333c0890987755ad...</td>\n",
       "    </tr>\n",
       "    <tr>\n",
       "      <th>7</th>\n",
       "      <td>userid</td>\n",
       "      <td>1212</td>\n",
       "      <td>52b4dbee53e28d5732b37a029b9a20391352a1ea69fe5d...</td>\n",
       "      <td>aa31357c3570ae2702b38a4a7e92f9746d0782aa122c02...</td>\n",
       "    </tr>\n",
       "  </tbody>\n",
       "</table>\n",
       "</div>"
      ],
      "text/plain": [
       "  hashed_col         hashed_IN  \\\n",
       "0      email  albert@gmail.com   \n",
       "1      email  bree@hotmail.com   \n",
       "2      email    titan@live.com   \n",
       "3      email    epic@yahoo.com   \n",
       "4     userid               101   \n",
       "5     userid               666   \n",
       "6     userid              3344   \n",
       "7     userid              1212   \n",
       "\n",
       "                                          hashed_val  \\\n",
       "0  d02c4feb89fab9a428c16203489519e00317e4fcd3e85d...   \n",
       "1  5fecfef10c899850aeb2bb9c30d2de3a92c88980485c45...   \n",
       "2  87af91b179f43ce8f54ccca0c64cc435efb05dbea8f5db...   \n",
       "3  9920fd51bf1d8c0f30f73e5dee53ce17c99eeaddd4991d...   \n",
       "4  1b7d4dde3ee311d5d1841a5f82b2515af6f7300ff1f472...   \n",
       "5  9a2aa3e0049ca6de079a2b25e14bbb9f01cf68c00a8fab...   \n",
       "6  c1925ed7961a3061724c2435ca09508e6f140d3aa6150a...   \n",
       "7  52b4dbee53e28d5732b37a029b9a20391352a1ea69fe5d...   \n",
       "\n",
       "                                                salt  \n",
       "0  fb958ec61e72e2090f9aa67174cc10edcb0128b045d407...  \n",
       "1  477533867f1ab38888d85f63a15d7ced893d09abc81cf5...  \n",
       "2  81e1ae6e4205466996335560162a39fe377559562a9319...  \n",
       "3  037fc1fc86aeba84fe52b34ad162efe4e83e18cf01dec3...  \n",
       "4  3e5bf11a61a5d9e33073c13d1500c15c097f66f217e1ee...  \n",
       "5  44e7b27b5671483559489ac1ceee0f722215046efc4eb2...  \n",
       "6  2686b71a70ec7fea431eccfb556f08333c0890987755ad...  \n",
       "7  aa31357c3570ae2702b38a4a7e92f9746d0782aa122c02...  "
      ]
     },
     "execution_count": 15,
     "metadata": {},
     "output_type": "execute_result"
    }
   ],
   "source": [
    "def apply_hashing(the_val, the_colname):\n",
    "    global key_df\n",
    "  \n",
    "    if the_val not in key_df[key_df.hashed_col==the_colname]['hashed_IN'].values:\n",
    "        # If we havent already hashed this email, hash it\n",
    "        \n",
    "        # First create a random salt just for this email\n",
    "        salt = get_random_salt_str()\n",
    "        \n",
    "        # Now do the salted hashing\n",
    "        hashed_val = get_hashed_value(the_val, salt)\n",
    "        \n",
    "        # save a lookup table of the secret bits\n",
    "        key_df = key_df.append({'hashed_col': the_colname, 'hashed_IN' : the_val, 'hashed_val' : hashed_val, 'salt' : salt},  \n",
    "                ignore_index = True)\n",
    "        \n",
    "        # return the hashed email\n",
    "        return hashed_val\n",
    "    else:\n",
    "        # else just return the hashed email\n",
    "        #return key[the_colname]\n",
    "        print(\"\\n\", the_val, 'HASHED ALREADY - CHECK OUTPUT HASHED DF to make sure values are the same')\n",
    "        \n",
    "        return key_df[((key_df.hashed_col==the_colname) & (key_df['hashed_IN'] == the_val))]['hashed_val'].squeeze()\n",
    "\n",
    "\n",
    "##\n",
    "## IMPLEMENT THE HASHING\n",
    "##\n",
    "\n",
    "# Create DF to hold our secret lookup table\n",
    "# YOU WOULD never want to store this on the same server as the hashed data because that defeats the purpose!\n",
    "# This lookup table is also not necessary if you have the unhashed data.\n",
    "key_df = pd.DataFrame(columns = ['hashed_col', 'hashed_IN', 'hashed_val', 'salt']) \n",
    "\n",
    "# HASH EMAIL\n",
    "the_colname = 'email'\n",
    "df.email = df.email.apply(lambda x: apply_hashing(x, the_colname))\n",
    "\n",
    "# HASH Userid\n",
    "the_colname = 'userid'\n",
    "df.userid = df.userid.apply(lambda x: apply_hashing(x, the_colname))\n",
    "\n",
    "#=================================\n",
    "print(\"\\n\\nHASHED DF\")\n",
    "print(df)\n",
    "\n",
    "#=================================\n",
    "print(\"\\n\\nSECRET SAUCE\")\n",
    "key_df"
   ]
  },
  {
   "cell_type": "markdown",
   "metadata": {},
   "source": [
    "# References\n",
    "\n",
    "https://auth0.com/blog/adding-salt-to-hashing-a-better-way-to-store-passwords/#:~:text=A%20cryptographic%20salt%20is%20made,compute%20them%20using%20the%20salts.\n",
    "    "
   ]
  },
  {
   "cell_type": "markdown",
   "metadata": {},
   "source": [
    "## Let's do it again, but a bit more simply"
   ]
  },
  {
   "cell_type": "code",
   "execution_count": 16,
   "metadata": {},
   "outputs": [],
   "source": [
    "# SIMPLE HASH EXAMPLE\n",
    "# Mostly from: https://korniichuk.medium.com/gdpr-guide-2-7c399b44ba3\n",
    "\n",
    "#import the libraries we will use\n",
    "import hashlib\n",
    "import secrets"
   ]
  },
  {
   "cell_type": "code",
   "execution_count": 17,
   "metadata": {},
   "outputs": [
    {
     "name": "stdout",
     "output_type": "stream",
     "text": [
      "INPUT DF\n",
      "              email  gender  age  income  country\n",
      "0  albert@gmail.com    male   20   25000  Germany\n",
      "1  bree@hotmail.com  female   21   34000  Germany\n",
      "2    titan@live.com    male   19   31000  Germany\n",
      "3    epic@yahoo.com  female   18   10000   Sweden\n",
      "4  albert@gmail.com    male   20   15000  Germany\n"
     ]
    }
   ],
   "source": [
    "# Create a test dataframe\n",
    "data = {'email':['albert@gmail.com', 'bree@hotmail.com', 'titan@live.com', 'epic@yahoo.com','albert@gmail.com'],\n",
    "        'gender':['male', 'female', 'male', 'female','male'],\n",
    "        'age':[20, 21, 19, 18,20],\n",
    "        'income':[25000, 34000, 31000, 10000,15000],\n",
    "        'country':['Germany', 'Germany', 'Germany', 'Sweden','Germany']} \n",
    "df = pd.DataFrame(data)\n",
    "\n",
    "# Display our test dataframe\n",
    "print(\"INPUT DF\")\n",
    "print(df)"
   ]
  },
  {
   "cell_type": "code",
   "execution_count": 18,
   "metadata": {},
   "outputs": [],
   "source": [
    "def get_hashed_value(the_val, the_colname):\n",
    "    \n",
    "    '''A function that will has a given value'''\n",
    "    \n",
    "    global key_df  # Assumes we maintain a lookup table of already hashed values\n",
    "    \n",
    "    if the_val not in key_df[key_df.hashed_col==the_colname]['hashed_IN'].values:\n",
    "        # if val not in lookup table of already hashed values\n",
    "        # then hash it\n",
    "        \n",
    "        # First create a random salt just for this value\n",
    "        salt = secrets.token_hex()\n",
    "        \n",
    "        # Now hash the salted value\n",
    "        sha3 = hashlib.sha3_512()  # Hash algorithm\n",
    "        data = salt + str(the_val)        # value to salt\n",
    "        sha3.update(data.encode('utf-8')) # Hash the value\n",
    "        hexdigest = sha3.hexdigest()  # return the hexdigest of the salted output value\n",
    "        \n",
    "        # save value and hashed value to a lookup table of the secret bits\n",
    "        key_df = key_df.append({'hashed_col': the_colname, 'hashed_IN' : the_val, 'hashed_val' : hexdigest, 'salt' : salt},  \n",
    "                ignore_index = True)\n",
    "        \n",
    "        # return the hashed value\n",
    "        return hexdigest\n",
    "    \n",
    "    else:\n",
    "        # else just return the hashed email\n",
    "        print(\"\\n\", the_val, 'HASHED ALREADY - CHECK OUTPUT HASHED DF to make sure values are the same')\n",
    "        \n",
    "        return key_df[((key_df.hashed_col==the_colname) & (key_df['hashed_IN'] == the_val))]['hashed_val'].squeeze()\n"
   ]
  },
  {
   "cell_type": "code",
   "execution_count": 19,
   "metadata": {},
   "outputs": [
    {
     "name": "stdout",
     "output_type": "stream",
     "text": [
      "\n",
      " albert@gmail.com HASHED ALREADY - CHECK OUTPUT HASHED DF to make sure values are the same\n",
      "\n",
      "\n",
      "HASHED DF\n",
      "                                               email  gender  age  \\\n",
      "0  7be40296d784b881b37e9cc02937207eb738848f144d11...    male   20   \n",
      "1  35c93916fff462b62da378e1bb41be6c4ad83fd26a7b64...  female   21   \n",
      "2  6890d7258972961b405b0bb9150cf0f72928425a1f6f89...    male   19   \n",
      "3  2802e3d6d9be3035cde875ce21d6735dd8c231667a0c35...  female   18   \n",
      "4  7be40296d784b881b37e9cc02937207eb738848f144d11...    male   20   \n",
      "\n",
      "                                              income  country  \n",
      "0  661e45b1a7626404a22f32a41b5aaf15d60e3324d3cee5...  Germany  \n",
      "1  1732d2daf9720f3cc4a84e26c8747c3f91227d2d14a670...  Germany  \n",
      "2  dad09c5f7f3a10aa9626a466c95bbb44b0cfaaa4fcf41d...  Germany  \n",
      "3  ad9e645c2b7cbf9740c7479655944f47383c11885b819b...   Sweden  \n",
      "4  6841e90b7d895d01cd6a14a9c36de2ebd27301960b79f5...  Germany  \n",
      "\n",
      "\n",
      "SECRET SAUCE\n"
     ]
    },
    {
     "data": {
      "text/html": [
       "<div>\n",
       "<style scoped>\n",
       "    .dataframe tbody tr th:only-of-type {\n",
       "        vertical-align: middle;\n",
       "    }\n",
       "\n",
       "    .dataframe tbody tr th {\n",
       "        vertical-align: top;\n",
       "    }\n",
       "\n",
       "    .dataframe thead th {\n",
       "        text-align: right;\n",
       "    }\n",
       "</style>\n",
       "<table border=\"1\" class=\"dataframe\">\n",
       "  <thead>\n",
       "    <tr style=\"text-align: right;\">\n",
       "      <th></th>\n",
       "      <th>hashed_col</th>\n",
       "      <th>hashed_IN</th>\n",
       "      <th>hashed_val</th>\n",
       "      <th>salt</th>\n",
       "    </tr>\n",
       "  </thead>\n",
       "  <tbody>\n",
       "    <tr>\n",
       "      <th>0</th>\n",
       "      <td>email</td>\n",
       "      <td>albert@gmail.com</td>\n",
       "      <td>7be40296d784b881b37e9cc02937207eb738848f144d11...</td>\n",
       "      <td>6d795ba1835a1acc92ee71499f1777b58f833913935461...</td>\n",
       "    </tr>\n",
       "    <tr>\n",
       "      <th>1</th>\n",
       "      <td>email</td>\n",
       "      <td>bree@hotmail.com</td>\n",
       "      <td>35c93916fff462b62da378e1bb41be6c4ad83fd26a7b64...</td>\n",
       "      <td>3de166e62007baa4dbb78fc4397ca610c124ac92a85156...</td>\n",
       "    </tr>\n",
       "    <tr>\n",
       "      <th>2</th>\n",
       "      <td>email</td>\n",
       "      <td>titan@live.com</td>\n",
       "      <td>6890d7258972961b405b0bb9150cf0f72928425a1f6f89...</td>\n",
       "      <td>f357780c86d29a13937bc7e1bfa380028755e8f8d8ddb1...</td>\n",
       "    </tr>\n",
       "    <tr>\n",
       "      <th>3</th>\n",
       "      <td>email</td>\n",
       "      <td>epic@yahoo.com</td>\n",
       "      <td>2802e3d6d9be3035cde875ce21d6735dd8c231667a0c35...</td>\n",
       "      <td>82219d8b0631f52dcddc94a038da6be9fa8ac257bdd178...</td>\n",
       "    </tr>\n",
       "    <tr>\n",
       "      <th>4</th>\n",
       "      <td>income</td>\n",
       "      <td>25000</td>\n",
       "      <td>661e45b1a7626404a22f32a41b5aaf15d60e3324d3cee5...</td>\n",
       "      <td>b425384eb28f35a094106fd985222cc409d4030e6dcd5c...</td>\n",
       "    </tr>\n",
       "    <tr>\n",
       "      <th>5</th>\n",
       "      <td>income</td>\n",
       "      <td>34000</td>\n",
       "      <td>1732d2daf9720f3cc4a84e26c8747c3f91227d2d14a670...</td>\n",
       "      <td>6c18c466ec11dd63dd6a65cba16cf2d299cd2b977510db...</td>\n",
       "    </tr>\n",
       "    <tr>\n",
       "      <th>6</th>\n",
       "      <td>income</td>\n",
       "      <td>31000</td>\n",
       "      <td>dad09c5f7f3a10aa9626a466c95bbb44b0cfaaa4fcf41d...</td>\n",
       "      <td>8fdf8a04a39a38cacfaa9d92af46eec041171bb1e19d23...</td>\n",
       "    </tr>\n",
       "    <tr>\n",
       "      <th>7</th>\n",
       "      <td>income</td>\n",
       "      <td>10000</td>\n",
       "      <td>ad9e645c2b7cbf9740c7479655944f47383c11885b819b...</td>\n",
       "      <td>b622f90350b04f0537b191d70f29670bba02646735bfdf...</td>\n",
       "    </tr>\n",
       "    <tr>\n",
       "      <th>8</th>\n",
       "      <td>income</td>\n",
       "      <td>15000</td>\n",
       "      <td>6841e90b7d895d01cd6a14a9c36de2ebd27301960b79f5...</td>\n",
       "      <td>bd65c3ce7b740e5fdfe1244c2c64ccf13ed6bdd07e2377...</td>\n",
       "    </tr>\n",
       "  </tbody>\n",
       "</table>\n",
       "</div>"
      ],
      "text/plain": [
       "  hashed_col         hashed_IN  \\\n",
       "0      email  albert@gmail.com   \n",
       "1      email  bree@hotmail.com   \n",
       "2      email    titan@live.com   \n",
       "3      email    epic@yahoo.com   \n",
       "4     income             25000   \n",
       "5     income             34000   \n",
       "6     income             31000   \n",
       "7     income             10000   \n",
       "8     income             15000   \n",
       "\n",
       "                                          hashed_val  \\\n",
       "0  7be40296d784b881b37e9cc02937207eb738848f144d11...   \n",
       "1  35c93916fff462b62da378e1bb41be6c4ad83fd26a7b64...   \n",
       "2  6890d7258972961b405b0bb9150cf0f72928425a1f6f89...   \n",
       "3  2802e3d6d9be3035cde875ce21d6735dd8c231667a0c35...   \n",
       "4  661e45b1a7626404a22f32a41b5aaf15d60e3324d3cee5...   \n",
       "5  1732d2daf9720f3cc4a84e26c8747c3f91227d2d14a670...   \n",
       "6  dad09c5f7f3a10aa9626a466c95bbb44b0cfaaa4fcf41d...   \n",
       "7  ad9e645c2b7cbf9740c7479655944f47383c11885b819b...   \n",
       "8  6841e90b7d895d01cd6a14a9c36de2ebd27301960b79f5...   \n",
       "\n",
       "                                                salt  \n",
       "0  6d795ba1835a1acc92ee71499f1777b58f833913935461...  \n",
       "1  3de166e62007baa4dbb78fc4397ca610c124ac92a85156...  \n",
       "2  f357780c86d29a13937bc7e1bfa380028755e8f8d8ddb1...  \n",
       "3  82219d8b0631f52dcddc94a038da6be9fa8ac257bdd178...  \n",
       "4  b425384eb28f35a094106fd985222cc409d4030e6dcd5c...  \n",
       "5  6c18c466ec11dd63dd6a65cba16cf2d299cd2b977510db...  \n",
       "6  8fdf8a04a39a38cacfaa9d92af46eec041171bb1e19d23...  \n",
       "7  b622f90350b04f0537b191d70f29670bba02646735bfdf...  \n",
       "8  bd65c3ce7b740e5fdfe1244c2c64ccf13ed6bdd07e2377...  "
      ]
     },
     "execution_count": 19,
     "metadata": {},
     "output_type": "execute_result"
    }
   ],
   "source": [
    "##\n",
    "## IMPLEMENT THE HASHING\n",
    "##\n",
    "\n",
    "# Create DF to hold our secret lookup table.\n",
    "# We use this table to make sure the same input values have the same hashed value (needed for data linkage)\n",
    "# YOU WOULD never want to store this on the same server as the hashed data because that defeats the purpose!\n",
    "# This lookup table is also not necessary if you have the unhashed data.\n",
    "key_df = pd.DataFrame(columns = ['hashed_col', 'hashed_IN', 'hashed_val', 'salt']) \n",
    "\n",
    "# You can hash as many columns as you want\n",
    "# Make a copy of the input df if you don't want to overwrite the data\n",
    "df_hashed = df.copy()\n",
    "\n",
    "# HASH EMAIL\n",
    "the_colname = 'email'\n",
    "df_hashed.email = df_hashed.email.apply(lambda x: get_hashed_value(x, the_colname))\n",
    "\n",
    "# HASH income\n",
    "the_colname = 'income'\n",
    "df_hashed.income = df_hashed.income.apply(lambda x: get_hashed_value(x, the_colname))\n",
    "\n",
    "#=================================\n",
    "print(\"\\n\\nHASHED DF\")\n",
    "print(df_hashed)\n",
    "\n",
    "#=================================\n",
    "print(\"\\n\\nSECRET SAUCE\")\n",
    "key_df"
   ]
  },
  {
   "cell_type": "markdown",
   "metadata": {},
   "source": [
    "## Finishing up\n",
    "\n",
    "At this point you would check the hashed data (`df_hashed`), save it to file, and then you could use it or share it without worrying about revealing personally identifiable information. Store the input data and the code you used to hash and salt it on a secure server.\n",
    "\n",
    "That said, there is always a chance that someone could reverse engineer your hashing if they can figure out your hashing and salting method. So the security methods for working with highly restricted use data (P3 and above) should always be double checked by a campus data security professional."
   ]
  },
  {
   "cell_type": "code",
   "execution_count": null,
   "metadata": {},
   "outputs": [],
   "source": [
    "---\n",
    "Created by Patty Frontiera, pfrontiera@berkeley.edu\n",
    "Last updated: 1/31/2022\n"
   ]
  },
  {
   "cell_type": "code",
   "execution_count": null,
   "metadata": {},
   "outputs": [],
   "source": []
  }
 ],
 "metadata": {
  "kernelspec": {
   "display_name": "Python 3",
   "language": "python",
   "name": "python3"
  },
  "language_info": {
   "codemirror_mode": {
    "name": "ipython",
    "version": 3
   },
   "file_extension": ".py",
   "mimetype": "text/x-python",
   "name": "python",
   "nbconvert_exporter": "python",
   "pygments_lexer": "ipython3",
   "version": "3.8.3"
  }
 },
 "nbformat": 4,
 "nbformat_minor": 4
}
