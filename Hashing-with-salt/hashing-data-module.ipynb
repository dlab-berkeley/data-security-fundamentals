{
 "cells": [
  {
   "cell_type": "markdown",
   "id": "23bb84e8",
   "metadata": {},
   "source": [
    "# Hashing Data With Python:\n",
    "### How to use the ```Hashlib```, ```secrets```, and ```HMAC``` libraries to encrypt protected data.\n",
    "\n",
    "\n",
    "**Time**\n",
    "\n",
    "- Teaching: 30 min\n",
    "\n",
    "**Questions**:\n",
    "\n",
    "- \"How can I encrypt a selection of variables in a dataset to protect sensitive information?\"\n",
    "\n",
    "**Learning Objectives**:\n",
    "\n",
    "- \"Understand what a hashing and a hash is.\"\n",
    "- \"Understand salt and what salting does.\"\n",
    "- \"Generate random hexidecimal tokens.\"\n",
    "- \"Write function to create random salt values.\"\n",
    "- \"Apply keyed hashing to a pandas dataframe.\"\n",
    "* * * * *"
   ]
  },
  {
   "attachments": {
    "hashing-algorithm.png": {
     "image/png": "[encoded data removed]"
    }
   },
   "cell_type": "markdown",
   "id": "61b2c790",
   "metadata": {},
   "source": [
    "## Introduction: \n",
    "\n",
    "Hashing a process where you take any combination and length of characters (numbers, letters, special characters) and transform them into a unique, unintelligible pattern of a specified number of characters and numbers.Hashing can be used to maintain the integrity of organized data while masking sensitive, personally identifiable information (PII).  A hash function is used to generate new values according to a mathematical algorithm and hashed values are those that have been replaced with meaningless characters.\n",
    "\n",
    "A good hash function uses a one-way hashing algorithm, so that the hash cannot be converted back into the original key.\n",
    "\n",
    "\n",
    "![hashing-algorithm.png](attachment:hashing-algorithm.png)\n",
    "\n",
    "Hashing is most commonly used to implement **hash tables**. A hash table stores key/value pairs in the form \n",
    "of a list where any element can be accessed using its index. Since there is no limit to the number of \n",
    "key/value pairs, we can use a hash function to map keys to the size of a data table and the hash value \n",
    "becomes the index for a given element.\n",
    "\n",
    "In many cases, we will want multiple instances of the same value, like an email address or a person's name, to have the same hashed value. Doing this allows us to identify unique individuals and match associated data without knowing the true values contained in the sensitive variables.\n",
    "\n",
    "**Salting** is an additional process that creates another level of safeguard by adding random data to the input of a hash function to guarantee a unique output of the hash. A [cryptographic salt](https://en.wikipedia.org/wiki/Salt_(cryptography)) is made up of random bits added to each password instance before its hashing. Hashing with the same salt will always return the same hash output for the same input. \n",
    "\n",
    "\n",
    "Precautions to consider when hashing with salt: \n",
    "\n",
    "            - Don't use the same salt for every value in the table.\n",
    "            - Protect the salt, since with it one can un-hash the data.\n",
    "\n",
    "Hashing is a one way process, we typically don't unhash protected values. We store the restricted use data on a secure server and distribute the hashed data to a less secure server/computer for analysis. \n"
   ]
  },
  {
   "cell_type": "markdown",
   "id": "85c60fee",
   "metadata": {},
   "source": [
    ">To begin, we import the necessary libraries and generate our **salt** value."
   ]
  },
  {
   "attachments": {
    "salt-pic.png": {
     "image/png": "[encoded data removed]"
    }
   },
   "cell_type": "markdown",
   "id": "2f3895b2",
   "metadata": {},
   "source": [
    "![salt-pic.png](attachment:salt-pic.png)"
   ]
  },
  {
   "cell_type": "code",
   "execution_count": 2,
   "id": "10a91b77",
   "metadata": {},
   "outputs": [],
   "source": [
    "# import necessary libraries.\n",
    "\n",
    "import hashlib # secures hashes and message digests\n",
    "import hmac    # keyed hashing for message authentication\n",
    "import secrets # generates random token\n",
    "import math    # access to mathematical functions\n",
    "import sys     # access to system specific parameters and functions\n"
   ]
  },
  {
   "cell_type": "code",
   "execution_count": 3,
   "id": "a5f6c585",
   "metadata": {},
   "outputs": [
    {
     "name": "stdout",
     "output_type": "stream",
     "text": [
      "token: b618e5c9be5aec7d4c61ea7f83af533b4c9a72d13982a4b6c2a70ce01c5b09f1; length = 64\n"
     ]
    }
   ],
   "source": [
    "# declare variables for salt value. \n",
    "token_hex = None \n",
    "token_int = None\n",
    "token_bit_count = -1\n",
    "token_byte_count = -1 \n",
    "token_bytes= None \n",
    "salt_hash = None\n",
    "salt = None\n",
    "\n",
    "# create random hexadecimal token of default size (32 bytes, 64 hex digits) \n",
    "token_hex = secrets.token_hex()\n",
    "\n",
    "# view the token and its length\n",
    "print( \"token: \" + token_hex + \"; length = \" + str( len( token_hex ) ) )\n"
   ]
  },
  {
   "cell_type": "code",
   "execution_count": 4,
   "id": "cb867dae",
   "metadata": {},
   "outputs": [
    {
     "data": {
      "text/plain": [
       "str"
      ]
     },
     "execution_count": 4,
     "metadata": {},
     "output_type": "execute_result"
    }
   ],
   "source": [
    "# Our token is a string, and we must convert to an integer\n",
    "type(token_hex)"
   ]
  },
  {
   "cell_type": "code",
   "execution_count": 5,
   "id": "6a83bdd6",
   "metadata": {},
   "outputs": [
    {
     "name": "stdout",
     "output_type": "stream",
     "text": [
      "Default token int: 82364928710618598337695565303453417498907270224657452692782044685412394011121\n"
     ]
    }
   ],
   "source": [
    "\n",
    "# convert the token to an integer \n",
    "token_int = int(token_hex, 16) # hex is base 16\n",
    "print( \"Default token int: \" + str( token_int ) )\n"
   ]
  },
  {
   "cell_type": "markdown",
   "id": "2ee9d8d0",
   "metadata": {},
   "source": [
    "> You may be asking, \"what are base-16 numbers?\" _Excellent question!_ The base value of a number system is the number of different values the set has before repeating itself. Here is a short [explanation video](https://www.youtube.com/watch?v=ZL-LhaaMTTE) highlighting the differences between binary, hexidecimal, and those base-10 numerical systems we are most familiar with. "
   ]
  },
  {
   "cell_type": "code",
   "execution_count": 6,
   "id": "03631308",
   "metadata": {},
   "outputs": [
    {
     "name": "stdout",
     "output_type": "stream",
     "text": [
      "token bit count = 256\n",
      "token byte count = 32\n",
      "token bytes = b'\\xf1\\t[\\x1c\\xe0\\x0c\\xa7\\xc2\\xb6\\xa4\\x829\\xd1r\\x9aL;S\\xaf\\x83\\x7f\\xeaaL}\\xecZ\\xbe\\xc9\\xe5\\x18\\xb6'\n",
      "salt: c9d57431dc592b476c27f330651c9d1af83515c4203e0cb651e1e9285836a1a6; type = <class 'str'>\n"
     ]
    }
   ],
   "source": [
    "# get bit count\n",
    "token_bit_count = token_int.bit_length()\n",
    "print( \"token bit count = \" + str( token_bit_count ) )\n",
    "\n",
    "# get byte count\n",
    "token_byte_count = token_bit_count / 8 \n",
    "token_byte_count = math.ceil( token_byte_count ) \n",
    "token_byte_count = int(token_byte_count ) \n",
    "print( \"token byte count = \" + str(token_byte_count ) )\n",
    "\n",
    "# convert the integer value to bytes\n",
    "token_bytes = token_int.to_bytes( token_byte_count, byteorder = sys.byteorder ) \n",
    "print(\"token bytes = \" + str( token_bytes ) )\n",
    "\n",
    "# Use hashlib to create a salt value from the token\n",
    "salt_hash = hashlib.sha256( token_bytes ) \n",
    "salt = salt_hash.hexdigest() \n",
    "print( \"salt: \" + str( salt ) + \"; type = \" + str(type( salt ) ) )"
   ]
  },
  {
   "cell_type": "code",
   "execution_count": 7,
   "id": "ccc3159e",
   "metadata": {},
   "outputs": [],
   "source": [
    "\n",
    "# declare variables \n",
    "salt_IN = None\n",
    "message_IN = None \n",
    "sha256_instance = None \n",
    "encoded_passphrase = None\n",
    "passphrase_hash = None\n",
    "encoded_message = None\n",
    "hmac_key_hash_instance = None\n",
    "hmac_key = None\n",
    "\n",
    "# set salt (from above) and message\n",
    "salt_IN = salt\n",
    "message_IN = \"salty_dog_at_sea\"\n",
    "\n",
    "# convert salt to encryption key\n",
    "# get hasher \n",
    "sha256_instance = hashlib.sha256()\n",
    "\n",
    "# update it with the message\n",
    "encoded_passphrase = salt_IN.encode( \"utf-8\" ) \n",
    "sha256_instance.update(encoded_passphrase )\n",
    "\n",
    "# get digest \n",
    "passphrase_hash = sha256_instance.digest() \n",
    "\n",
    "# store as key\n",
    "hmac_key_hash_instance = sha256_instance \n",
    "hmac_key = passphrase_hash\n",
    "\n",
    "# ==> hash message with HMAC and salt key\n",
    "# encode \n",
    "encoded_message = message_IN.encode( \"utf8\" )\n",
    "\n",
    "# make hmac_instance with key, message, and hash function.\n",
    "hmac_instance = hmac.new( hmac_key, encoded_message, digestmod = hashlib.sha256 )\n",
    "\n",
    "# perform hash. \n",
    "value_OUT = hmac_instance.hexdigest()"
   ]
  },
  {
   "cell_type": "code",
   "execution_count": 8,
   "id": "ec72fcab",
   "metadata": {},
   "outputs": [
    {
     "data": {
      "text/plain": [
       "'4abc2f860ff419680f89cb23d156ff22e8e8f21b9e7e277602e63930befa2ac6'"
      ]
     },
     "execution_count": 8,
     "metadata": {},
     "output_type": "execute_result"
    }
   ],
   "source": [
    "value_OUT"
   ]
  },
  {
   "cell_type": "markdown",
   "id": "67b406fa",
   "metadata": {},
   "source": [
    "## Create function to generate a random salt string value using the `secrets` library."
   ]
  },
  {
   "cell_type": "code",
   "execution_count": 9,
   "id": "67d8b4a5",
   "metadata": {},
   "outputs": [],
   "source": [
    "\n",
    "def get_random_salt_str():\n",
    "    '''\n",
    "    Generate salt using secrets library\n",
    "    '''\n",
    "\n",
    "    # declare variables \n",
    "    token_hex = None \n",
    "    token_int = None\n",
    "    token_bit_count = -1\n",
    "    token_byte_count = -1 \n",
    "    token_bytes= None \n",
    "    salt_hash = None\n",
    "    salt = None\n",
    "\n",
    "    # Create random hexadecimal token of default size (32 bytes, 64 hex digits) \n",
    "    token_hex = secrets.token_hex()\n",
    "\n",
    "    # hex is base 16\n",
    "    token_int = int(token_hex, 16) \n",
    "   \n",
    "    # get bit count of token\n",
    "    token_bit_count = token_int.bit_length()\n",
    " \n",
    "\n",
    "    # get byte count of token\n",
    "    token_byte_count = token_bit_count / 8 \n",
    "    token_byte_count = math.ceil( token_byte_count ) \n",
    "    token_byte_count = int(token_byte_count ) \n",
    "    \n",
    "\n",
    "    # convert the integer value to bytes\n",
    "    token_bytes = token_int.to_bytes( token_byte_count, byteorder = sys.byteorder ) \n",
    "\n",
    "    # Use hashlib to create a salt value from the token\n",
    "    salt_hash = hashlib.sha256( token_bytes ) \n",
    "    salt = salt_hash.hexdigest() \n",
    "    \n",
    "    # return random salt value\n",
    "    return salt\n"
   ]
  },
  {
   "cell_type": "markdown",
   "id": "28a44f0e",
   "metadata": {},
   "source": [
    "### The function should always return a new, random string. Try running the next few blocks to test out the randomness."
   ]
  },
  {
   "cell_type": "code",
   "execution_count": 10,
   "id": "e41a42d8",
   "metadata": {},
   "outputs": [
    {
     "data": {
      "text/plain": [
       "'f828a0b78849985b59b4447c14ca762672f37b1ffe600a19e86fd2b89be94be2'"
      ]
     },
     "execution_count": 10,
     "metadata": {},
     "output_type": "execute_result"
    }
   ],
   "source": [
    "# Run the function a to test randomness\n",
    "get_random_salt_str()"
   ]
  },
  {
   "cell_type": "code",
   "execution_count": 11,
   "id": "a333455e",
   "metadata": {},
   "outputs": [
    {
     "name": "stdout",
     "output_type": "stream",
     "text": [
      "0 4dd05d7d62ab4304166f67faef88b5015dec3b9971cd6232cca7f87b5486a8ba\n",
      "1 674236a2c53a6560a5da02fe9a50aea8930f645c0f82c1f9d4ff7d0c6c38ebf1\n",
      "2 be1fa340dcb028aa0cf93e4b7fd67623cf88c93f2ab41a0486d32aa31f3dde8d\n",
      "3 42bc46d04b0a235f386e74f9f2f4fe92c3586d7dd6f1baa3bbccc4805b078dc5\n",
      "4 76293f9bb8200e200897d67c4386749c6f70927a063fb1d181c60a85077427e0\n",
      "5 d6c359f0555c6b4cd1cbb8f092cd4ff8d8c7e048c68a92b40949e4863361b00e\n",
      "6 1c3cf3bb3496fafdd2eb9ad2dec38179d25428226574b68ada3fd5c452e9d177\n",
      "7 15ae53b532930cde54a54ea7f93bec28e3e9ea1ddd0771f003d7bdc6b3109ae2\n",
      "8 40b299cde303bbac0a2a12452d63b3a78db3c6fceb1f26c28ba2ed55182c6790\n",
      "9 1bff46648196ee6cc36b8e6c58cc360534d55021a3c177eb857ac1108ef2d796\n"
     ]
    }
   ],
   "source": [
    "# Again with a range of values\n",
    "for i in range(0,10):\n",
    "    print(str(i), get_random_salt_str())\n",
    "    "
   ]
  },
  {
   "cell_type": "markdown",
   "id": "ba21c484",
   "metadata": {},
   "source": [
    "Create a function to return a hashed value given a specified salt value"
   ]
  },
  {
   "cell_type": "code",
   "execution_count": 12,
   "id": "5f25a79b",
   "metadata": {},
   "outputs": [],
   "source": [
    "\n",
    "def get_hashed_value(value_to_hash, salt):\n",
    "\n",
    "    '''Hash using a salt and HMAC'''\n",
    "    \n",
    "    # set salt and message\n",
    "    salt_IN = salt\n",
    "    message_IN = value_to_hash\n",
    "    \n",
    "    # declare variables \n",
    "    sha256_instance = None \n",
    "    encoded_passphrase = None\n",
    "    passphrase_hash = None\n",
    "    encoded_message = None\n",
    "    hmac_key_hash_instance = None\n",
    "    hmac_key = None\n",
    "\n",
    "    ######################################\n",
    "    # ==> convert salt to encryption key\n",
    "    ######################################\n",
    "    # get hasher \n",
    "    sha256_instance = hashlib.sha256()\n",
    "\n",
    "    # update it with the message\n",
    "    encoded_passphrase = salt_IN.encode( \"utf-8\" ) \n",
    "    sha256_instance.update(encoded_passphrase )\n",
    "\n",
    "    # get digest \n",
    "    passphrase_hash = sha256_instance.digest() \n",
    "\n",
    "    # store as key\n",
    "    hmac_key_hash_instance = sha256_instance \n",
    "    hmac_key = passphrase_hash\n",
    "\n",
    "    ##########################################\n",
    "    # ==> hash message with HMAC and salt key\n",
    "    ###########################################\n",
    "    # encode \n",
    "    encoded_message = message_IN.encode( \"utf8\" )\n",
    "\n",
    "    # make hmac_instance with key, message, and hash function.\n",
    "    hmac_instance = hmac.new( hmac_key, encoded_message, digestmod = hashlib.sha256 )\n",
    "\n",
    "    # perform hash. \n",
    "    value_OUT = hmac_instance.hexdigest()\n",
    "    \n",
    "    return value_OUT\n"
   ]
  },
  {
   "cell_type": "markdown",
   "id": "71885be6",
   "metadata": {},
   "source": [
    "The same value hashed with the same salt will return the __same__ hashed value."
   ]
  },
  {
   "cell_type": "code",
   "execution_count": 13,
   "id": "dba68f10",
   "metadata": {},
   "outputs": [
    {
     "name": "stdout",
     "output_type": "stream",
     "text": [
      "pizza, hashed: cd91092c31851a8d0ea44c7a672ea2340bd9ec889dc8befb83d11821fc2805c4\n",
      "pizza, hashed: cd91092c31851a8d0ea44c7a672ea2340bd9ec889dc8befb83d11821fc2805c4\n"
     ]
    }
   ],
   "source": [
    "print(\"pizza, hashed:\", get_hashed_value('pizza', 'salty_salt_string'))\n",
    "print(\"pizza, hashed:\", get_hashed_value('pizza', 'salty_salt_string'))"
   ]
  },
  {
   "cell_type": "markdown",
   "id": "7c10a61a",
   "metadata": {},
   "source": [
    "The same value hashed with a different salt will return a __different__ hashed value."
   ]
  },
  {
   "cell_type": "code",
   "execution_count": 14,
   "id": "3b975f47",
   "metadata": {
    "scrolled": true
   },
   "outputs": [
    {
     "name": "stdout",
     "output_type": "stream",
     "text": [
      "ice_cream, hashed: ef94d36b4235e47239f6e8942e11505712b87f3e842ffc70bd77f50a80a057d5\n",
      "ice_cream, hashed: ef94d36b4235e47239f6e8942e11505712b87f3e842ffc70bd77f50a80a057d5\n"
     ]
    }
   ],
   "source": [
    "print(\"ice_cream, hashed:\", get_hashed_value('ice_cream', 'salty_salt_string'))\n",
    "print(\"ice_cream, hashed:\", get_hashed_value('ice_cream', 'salty_salt_string'))"
   ]
  },
  {
   "cell_type": "markdown",
   "id": "3b280c6b",
   "metadata": {},
   "source": [
    "The same value hashed with a __different__ salt will return a __different__ hashed value."
   ]
  },
  {
   "cell_type": "code",
   "execution_count": 15,
   "id": "cada2955",
   "metadata": {},
   "outputs": [
    {
     "name": "stdout",
     "output_type": "stream",
     "text": [
      "pizza, hashed: c641893a9d8d5a11340df3654122812e31bd6a6e7df9e7b66923f13ba7bbdab5\n",
      "pizza, hashed: f6a054ebe9fba28d7681b7c8444c522c188928699a6dc922455c98b31355c264\n",
      "ice_cream, hashed: 926e8a873d6f379b21e9e6e2dab0ebbf3c848208da88102ce4f7275af01e14e2\n",
      "peanut, hashed: 6b13b1ff32cfb72b97d36bfbd3efe0c072101604e7aaee3e07ab0054f312c116\n"
     ]
    }
   ],
   "source": [
    "print(\"pizza, hashed:\", get_hashed_value('pizza', get_random_salt_str()))\n",
    "print(\"pizza, hashed:\", get_hashed_value('pizza', get_random_salt_str()))\n",
    "print(\"ice_cream, hashed:\", get_hashed_value('ice_cream', get_random_salt_str()))\n",
    "print(\"peanut, hashed:\", get_hashed_value('peanut', get_random_salt_str()))"
   ]
  },
  {
   "cell_type": "markdown",
   "id": "fe6912b6",
   "metadata": {},
   "source": [
    "> These are the basics of hashing and salting. Let's explore a hands on example with `pandas`.  "
   ]
  },
  {
   "cell_type": "markdown",
   "id": "3ff29c31",
   "metadata": {},
   "source": [
    "## Applying Keyed Hashing to a pandas dataframe"
   ]
  },
  {
   "cell_type": "code",
   "execution_count": 16,
   "id": "3da6789d",
   "metadata": {},
   "outputs": [
    {
     "name": "stdout",
     "output_type": "stream",
     "text": [
      "INPUT DF\n",
      "              email gender  age  income  country userid\n",
      "0  albert@gmail.com   male   20   25000  Germany    101\n",
      "1  brea@hotmail.com   male   21   34000  Germany    666\n",
      "2    titan@live.com   male   19   31000  Germany   3344\n",
      "3    jane@yahoo.com   male   18   10000   Sweden   1212\n",
      "4  albert@gmail.com   them   66   50000      USA    101\n"
     ]
    }
   ],
   "source": [
    "\n",
    "# Import pandas library\n",
    "import pandas as pd\n",
    "\n",
    "# Create a test dataframe\n",
    "data = {'email':['albert@gmail.com', 'brea@hotmail.com', 'titan@live.com', 'jane@yahoo.com','albert@gmail.com'],\n",
    "        'gender':['male', 'male', 'male', 'male','them'],\n",
    "        'age':[20, 21, 19, 18, 66],\n",
    "        'income':[25000, 34000, 31000, 10000, 50000],\n",
    "        'country':['Germany', 'Germany', 'Germany', 'Sweden','USA'],\n",
    "        'userid':['101', '666', '3344', '1212','101'],\n",
    "        } \n",
    "df = pd.DataFrame(data)\n",
    "\n",
    "# Print out dataframe\n",
    "print(\"INPUT DF\")\n",
    "print(df)\n"
   ]
  },
  {
   "cell_type": "code",
   "execution_count": 17,
   "id": "1d6753e5",
   "metadata": {},
   "outputs": [],
   "source": [
    "\n",
    "# Function that encyrpts values in certain columns of a dataframe\n",
    "def apply_hashing(the_val, the_colname):\n",
    "    global key_df\n",
    "  \n",
    "        # If we have not already hashed this value, hash it\n",
    "    if the_val not in key_df[key_df.hashed_col==the_colname]['hashed_IN'].values:\n",
    "        \n",
    "        # First create a random salt just for this email\n",
    "        salt = get_random_salt_str()\n",
    "        \n",
    "        # Now do the salted hashing\n",
    "        hashed_val = get_hashed_value(the_val, salt)\n",
    "        \n",
    "        # save a lookup table of the secret bits\n",
    "        key_df = key_df.append({'hashed_col': the_colname, 'hashed_IN' : the_val, 'hashed_val' : hashed_val, 'salt' : salt},  \n",
    "                ignore_index = True)\n",
    "        \n",
    "        # return the hashed email\n",
    "        return hashed_val\n",
    "    \n",
    "    else:\n",
    "        # else just return the hashed email\n",
    "        #return key[the_colname]\n",
    "        print(\"\\n\", the_val, 'HASHED ALREADY - CHECK OUTPUT HASHED DF to make sure values are the same')\n",
    "        \n",
    "        return key_df[((key_df.hashed_col==the_colname) & (key_df['hashed_IN'] == the_val))]['hashed_val'].squeeze()\n",
    "    "
   ]
  },
  {
   "cell_type": "markdown",
   "id": "a19d51d5",
   "metadata": {},
   "source": [
    "#### Now to implement the hashing and create a dataframe to hold our secret sauce.\n",
    "Note that you would never (ever) want to store the secretsauce dataframe on the same server as the hashed data, that defeats the whole of purpose of using encryption!"
   ]
  },
  {
   "cell_type": "code",
   "execution_count": 18,
   "id": "29824a08",
   "metadata": {},
   "outputs": [
    {
     "name": "stdout",
     "output_type": "stream",
     "text": [
      "\n",
      " albert@gmail.com HASHED ALREADY - CHECK OUTPUT HASHED DF to make sure values are the same\n",
      "\n",
      " 101 HASHED ALREADY - CHECK OUTPUT HASHED DF to make sure values are the same\n",
      "\n",
      "\n",
      "HASHED DF\n",
      "                                               email gender  age  income  \\\n",
      "0  99d09411bbd5e550ab1e448cedaf1a6d0c8362197ce10d...   male   20   25000   \n",
      "1  44879dcea56fb6eb3d24106d2536620cf6328767fd79f7...   male   21   34000   \n",
      "2  f5ed3247bd36673018d0fe022df6de471b015520910857...   male   19   31000   \n",
      "3  106c820271b5829393fb7872114ea69b1a6c305a951598...   male   18   10000   \n",
      "4  99d09411bbd5e550ab1e448cedaf1a6d0c8362197ce10d...   them   66   50000   \n",
      "\n",
      "   country                                             userid  \n",
      "0  Germany  0dfc3977c3e35ddd3e0088a92c26bd6849a69ba66d5c6c...  \n",
      "1  Germany  d0acac1cf2311702b43b7ca4649a3aca2a27480304bd79...  \n",
      "2  Germany  eb91bbc51a501c35ea905f60f4e60d13e7e49c52d4fac4...  \n",
      "3   Sweden  7ceb1743e60ebb24cada5c0e76936b36c02f3a962a20d4...  \n",
      "4      USA  0dfc3977c3e35ddd3e0088a92c26bd6849a69ba66d5c6c...  \n",
      "\n",
      "\n",
      "SECRET SAUCE\n"
     ]
    },
    {
     "data": {
      "text/html": [
       "<div>\n",
       "<style scoped>\n",
       "    .dataframe tbody tr th:only-of-type {\n",
       "        vertical-align: middle;\n",
       "    }\n",
       "\n",
       "    .dataframe tbody tr th {\n",
       "        vertical-align: top;\n",
       "    }\n",
       "\n",
       "    .dataframe thead th {\n",
       "        text-align: right;\n",
       "    }\n",
       "</style>\n",
       "<table border=\"1\" class=\"dataframe\">\n",
       "  <thead>\n",
       "    <tr style=\"text-align: right;\">\n",
       "      <th></th>\n",
       "      <th>hashed_col</th>\n",
       "      <th>hashed_IN</th>\n",
       "      <th>hashed_val</th>\n",
       "      <th>salt</th>\n",
       "    </tr>\n",
       "  </thead>\n",
       "  <tbody>\n",
       "    <tr>\n",
       "      <th>0</th>\n",
       "      <td>email</td>\n",
       "      <td>albert@gmail.com</td>\n",
       "      <td>99d09411bbd5e550ab1e448cedaf1a6d0c8362197ce10d...</td>\n",
       "      <td>d32ef15157f4e3ce37edf5b32765acaac92f60677276c0...</td>\n",
       "    </tr>\n",
       "    <tr>\n",
       "      <th>1</th>\n",
       "      <td>email</td>\n",
       "      <td>brea@hotmail.com</td>\n",
       "      <td>44879dcea56fb6eb3d24106d2536620cf6328767fd79f7...</td>\n",
       "      <td>8af10c25b2cf0bcd732b58a65f07a7394c518979f6daa9...</td>\n",
       "    </tr>\n",
       "    <tr>\n",
       "      <th>2</th>\n",
       "      <td>email</td>\n",
       "      <td>titan@live.com</td>\n",
       "      <td>f5ed3247bd36673018d0fe022df6de471b015520910857...</td>\n",
       "      <td>192700ed6c235110f550a5c16d62a8f0b45d52da974af5...</td>\n",
       "    </tr>\n",
       "    <tr>\n",
       "      <th>3</th>\n",
       "      <td>email</td>\n",
       "      <td>jane@yahoo.com</td>\n",
       "      <td>106c820271b5829393fb7872114ea69b1a6c305a951598...</td>\n",
       "      <td>60ba676195182ca93dfaaf4a8ad93e231930386e60bf37...</td>\n",
       "    </tr>\n",
       "    <tr>\n",
       "      <th>4</th>\n",
       "      <td>userid</td>\n",
       "      <td>101</td>\n",
       "      <td>0dfc3977c3e35ddd3e0088a92c26bd6849a69ba66d5c6c...</td>\n",
       "      <td>9ff374950211fae4af30a2f2661cf070d5567a97d2d7d3...</td>\n",
       "    </tr>\n",
       "    <tr>\n",
       "      <th>5</th>\n",
       "      <td>userid</td>\n",
       "      <td>666</td>\n",
       "      <td>d0acac1cf2311702b43b7ca4649a3aca2a27480304bd79...</td>\n",
       "      <td>3b44e1f2a08928076c7d7882e13df071a535891ec7d494...</td>\n",
       "    </tr>\n",
       "    <tr>\n",
       "      <th>6</th>\n",
       "      <td>userid</td>\n",
       "      <td>3344</td>\n",
       "      <td>eb91bbc51a501c35ea905f60f4e60d13e7e49c52d4fac4...</td>\n",
       "      <td>552c169e0411b5afa96bbeaa851d0652cb4a249165418e...</td>\n",
       "    </tr>\n",
       "    <tr>\n",
       "      <th>7</th>\n",
       "      <td>userid</td>\n",
       "      <td>1212</td>\n",
       "      <td>7ceb1743e60ebb24cada5c0e76936b36c02f3a962a20d4...</td>\n",
       "      <td>05330cac1cb2260dc51688b0cbec86e9f9240dbcf77ebd...</td>\n",
       "    </tr>\n",
       "  </tbody>\n",
       "</table>\n",
       "</div>"
      ],
      "text/plain": [
       "  hashed_col         hashed_IN  \\\n",
       "0      email  albert@gmail.com   \n",
       "1      email  brea@hotmail.com   \n",
       "2      email    titan@live.com   \n",
       "3      email    jane@yahoo.com   \n",
       "4     userid               101   \n",
       "5     userid               666   \n",
       "6     userid              3344   \n",
       "7     userid              1212   \n",
       "\n",
       "                                          hashed_val  \\\n",
       "0  99d09411bbd5e550ab1e448cedaf1a6d0c8362197ce10d...   \n",
       "1  44879dcea56fb6eb3d24106d2536620cf6328767fd79f7...   \n",
       "2  f5ed3247bd36673018d0fe022df6de471b015520910857...   \n",
       "3  106c820271b5829393fb7872114ea69b1a6c305a951598...   \n",
       "4  0dfc3977c3e35ddd3e0088a92c26bd6849a69ba66d5c6c...   \n",
       "5  d0acac1cf2311702b43b7ca4649a3aca2a27480304bd79...   \n",
       "6  eb91bbc51a501c35ea905f60f4e60d13e7e49c52d4fac4...   \n",
       "7  7ceb1743e60ebb24cada5c0e76936b36c02f3a962a20d4...   \n",
       "\n",
       "                                                salt  \n",
       "0  d32ef15157f4e3ce37edf5b32765acaac92f60677276c0...  \n",
       "1  8af10c25b2cf0bcd732b58a65f07a7394c518979f6daa9...  \n",
       "2  192700ed6c235110f550a5c16d62a8f0b45d52da974af5...  \n",
       "3  60ba676195182ca93dfaaf4a8ad93e231930386e60bf37...  \n",
       "4  9ff374950211fae4af30a2f2661cf070d5567a97d2d7d3...  \n",
       "5  3b44e1f2a08928076c7d7882e13df071a535891ec7d494...  \n",
       "6  552c169e0411b5afa96bbeaa851d0652cb4a249165418e...  \n",
       "7  05330cac1cb2260dc51688b0cbec86e9f9240dbcf77ebd...  "
      ]
     },
     "execution_count": 18,
     "metadata": {},
     "output_type": "execute_result"
    }
   ],
   "source": [
    "\n",
    "# This lookup table is also not necessary if you have the unhashed data.\n",
    "key_df = pd.DataFrame(columns = ['hashed_col', 'hashed_IN', 'hashed_val', 'salt']) \n",
    "\n",
    "# hash the email column \n",
    "the_colname = 'email'\n",
    "df.email = df.email.apply(lambda x: apply_hashing(x, the_colname))\n",
    "\n",
    "# hash userid column\n",
    "the_colname = 'userid'\n",
    "df.userid = df.userid.apply(lambda x: apply_hashing(x, the_colname))\n",
    "\n",
    "\n",
    "print(\"\\n\\nHASHED DF\")\n",
    "print(df)\n",
    "\n",
    "print(\"\\n\\nSECRET SAUCE\")\n",
    "key_df"
   ]
  },
  {
   "cell_type": "markdown",
   "id": "0764b142",
   "metadata": {},
   "source": [
    "\n",
    "Let's do this all again, but a bit more simply"
   ]
  },
  {
   "cell_type": "code",
   "execution_count": 19,
   "id": "f3e41312",
   "metadata": {},
   "outputs": [],
   "source": [
    "\n",
    "#import libraries \n",
    "import hashlib\n",
    "import secrets"
   ]
  },
  {
   "cell_type": "code",
   "execution_count": 20,
   "id": "2f4e005c",
   "metadata": {},
   "outputs": [
    {
     "name": "stdout",
     "output_type": "stream",
     "text": [
      "INPUT DF\n",
      "              email  gender  age  income  country\n",
      "0  albert@gmail.com    male   20   25000  Germany\n",
      "1  bree@hotmail.com  female   21   34000  Germany\n",
      "2    titan@live.com    male   19   31000  Germany\n",
      "3    epic@yahoo.com  female   18   10000   Sweden\n",
      "4  albert@gmail.com    male   20   15000  Germany\n"
     ]
    }
   ],
   "source": [
    "# Create test dataframe\n",
    "data = {'email':['albert@gmail.com', 'bree@hotmail.com', 'titan@live.com', 'epic@yahoo.com','albert@gmail.com'],\n",
    "        'gender':['male', 'female', 'male', 'female','male'],\n",
    "        'age':[20, 21, 19, 18,20],\n",
    "        'income':[25000, 34000, 31000, 10000,15000],\n",
    "        'country':['Germany', 'Germany', 'Germany', 'Sweden','Germany']} \n",
    "df = pd.DataFrame(data)\n",
    "\n",
    "# Display test dataframe\n",
    "print(\"INPUT DF\")\n",
    "print(df)\n"
   ]
  },
  {
   "cell_type": "code",
   "execution_count": 21,
   "id": "5115625e",
   "metadata": {},
   "outputs": [],
   "source": [
    "\n",
    "def get_hashed_value(the_val, the_colname):\n",
    "    \n",
    "    '''A function that will has a given value'''\n",
    "    \n",
    "    global key_df  # Assumes we maintain a lookup table of already hashed values\n",
    "    \n",
    "        # If we have not already hashed this value, hash it\n",
    "    if the_val not in key_df[key_df.hashed_col==the_colname]['hashed_IN'].values:     \n",
    "        \n",
    "        # First create a random salt just for this value\n",
    "        salt = secrets.token_hex()\n",
    "        \n",
    "        # Now hash the salted value\n",
    "        sha3 = hashlib.sha3_512()         # Hash algorithm\n",
    "        data = salt + str(the_val)        # value to salt\n",
    "        sha3.update(data.encode('utf-8')) # Hash the value\n",
    "        hexdigest = sha3.hexdigest()      # Return the hexdigest of the salted output value\n",
    "        \n",
    "        # save value and hashed value to a lookup table of the secret bits\n",
    "        key_df = key_df.append({'hashed_col': the_colname, 'hashed_IN' : the_val, 'hashed_val' : hexdigest, 'salt' : salt},  \n",
    "                ignore_index = True)\n",
    "        \n",
    "        # return the hashed value\n",
    "        return hexdigest\n",
    "    \n",
    "    else:\n",
    "        # else just return the hashed email\n",
    "        print(\"\\n\", the_val, 'HASHED ALREADY - CHECK OUTPUT HASHED DF to make sure values are the same')\n",
    "        \n",
    "        return key_df[((key_df.hashed_col==the_colname) & (key_df['hashed_IN'] == the_val))]['hashed_val'].squeeze()"
   ]
  },
  {
   "cell_type": "markdown",
   "id": "99e8322b",
   "metadata": {},
   "source": [
    "\n",
    "## IMPLEMENT THE HASHING\n",
    "\n",
    "We use the `key_df` table to make sure the same input values have the same hashed value (needed for data linkage)\n",
    "Never ever ever would we decide to store this on the same server as the hashed data, because that defeats the whole purpose of encrypting it!\n",
    "\n",
    "The lookup table is also not necessary if we plan to unhash the data."
   ]
  },
  {
   "cell_type": "code",
   "execution_count": 22,
   "id": "216b2742",
   "metadata": {},
   "outputs": [
    {
     "name": "stdout",
     "output_type": "stream",
     "text": [
      "\n",
      " albert@gmail.com HASHED ALREADY - CHECK OUTPUT HASHED DF to make sure values are the same\n",
      "\n",
      "\n",
      "HASHED DF\n",
      "                                               email  gender  age  \\\n",
      "0  23c7664365b6cc53d05084e2e549924066428e4497293f...    male   20   \n",
      "1  2c71853629bf444a4d057a831fb858f942165a8f4ec13a...  female   21   \n",
      "2  b83e0175ab52f28798344cdee4f2be32bef20b686f2026...    male   19   \n",
      "3  a719f2e5fb67e2b5517d6420b41bf764e63c5ddaf024d7...  female   18   \n",
      "4  23c7664365b6cc53d05084e2e549924066428e4497293f...    male   20   \n",
      "\n",
      "                                              income  country  \n",
      "0  8a6eb64b10d105b10dc416dc45ea9ac300d06373dbe76b...  Germany  \n",
      "1  d0e93ee1727efb3e3bb70973c666770b21151bacb50ef7...  Germany  \n",
      "2  b0d3c25e17b8dd755399b076cda630a7aa98f87d7d1996...  Germany  \n",
      "3  6c1ce8d0a5a7acd9286561e0c6d85e0037e822119c7c64...   Sweden  \n",
      "4  043d714ef10a12ad1dc262426fe86f99cede54be033570...  Germany  \n",
      "\n",
      "\n",
      "SECRET SAUCE\n"
     ]
    },
    {
     "data": {
      "text/html": [
       "<div>\n",
       "<style scoped>\n",
       "    .dataframe tbody tr th:only-of-type {\n",
       "        vertical-align: middle;\n",
       "    }\n",
       "\n",
       "    .dataframe tbody tr th {\n",
       "        vertical-align: top;\n",
       "    }\n",
       "\n",
       "    .dataframe thead th {\n",
       "        text-align: right;\n",
       "    }\n",
       "</style>\n",
       "<table border=\"1\" class=\"dataframe\">\n",
       "  <thead>\n",
       "    <tr style=\"text-align: right;\">\n",
       "      <th></th>\n",
       "      <th>hashed_col</th>\n",
       "      <th>hashed_IN</th>\n",
       "      <th>hashed_val</th>\n",
       "      <th>salt</th>\n",
       "    </tr>\n",
       "  </thead>\n",
       "  <tbody>\n",
       "    <tr>\n",
       "      <th>0</th>\n",
       "      <td>email</td>\n",
       "      <td>albert@gmail.com</td>\n",
       "      <td>23c7664365b6cc53d05084e2e549924066428e4497293f...</td>\n",
       "      <td>71d88b98ae5a2dd5826110cb0de7ab286230b3b5d7a519...</td>\n",
       "    </tr>\n",
       "    <tr>\n",
       "      <th>1</th>\n",
       "      <td>email</td>\n",
       "      <td>bree@hotmail.com</td>\n",
       "      <td>2c71853629bf444a4d057a831fb858f942165a8f4ec13a...</td>\n",
       "      <td>f81384ff186e2cd8ef59f522c88f2fd02572360bcd83e4...</td>\n",
       "    </tr>\n",
       "    <tr>\n",
       "      <th>2</th>\n",
       "      <td>email</td>\n",
       "      <td>titan@live.com</td>\n",
       "      <td>b83e0175ab52f28798344cdee4f2be32bef20b686f2026...</td>\n",
       "      <td>9f1fde1b4d1117e64b44bcf7028c3508ebb1896f8c9a03...</td>\n",
       "    </tr>\n",
       "    <tr>\n",
       "      <th>3</th>\n",
       "      <td>email</td>\n",
       "      <td>epic@yahoo.com</td>\n",
       "      <td>a719f2e5fb67e2b5517d6420b41bf764e63c5ddaf024d7...</td>\n",
       "      <td>cfa2ff04c2834eae29264865efa4e4201786e45a37e386...</td>\n",
       "    </tr>\n",
       "    <tr>\n",
       "      <th>4</th>\n",
       "      <td>income</td>\n",
       "      <td>25000</td>\n",
       "      <td>8a6eb64b10d105b10dc416dc45ea9ac300d06373dbe76b...</td>\n",
       "      <td>9966e949a5ce61e0760f6bdd6da38f8fa77449e241070d...</td>\n",
       "    </tr>\n",
       "    <tr>\n",
       "      <th>5</th>\n",
       "      <td>income</td>\n",
       "      <td>34000</td>\n",
       "      <td>d0e93ee1727efb3e3bb70973c666770b21151bacb50ef7...</td>\n",
       "      <td>1bb334824a876c820442293b20270d7c8239a9eeba9581...</td>\n",
       "    </tr>\n",
       "    <tr>\n",
       "      <th>6</th>\n",
       "      <td>income</td>\n",
       "      <td>31000</td>\n",
       "      <td>b0d3c25e17b8dd755399b076cda630a7aa98f87d7d1996...</td>\n",
       "      <td>b98379e9932a0ddc2c19d6a53d4257014b64c06bbae46c...</td>\n",
       "    </tr>\n",
       "    <tr>\n",
       "      <th>7</th>\n",
       "      <td>income</td>\n",
       "      <td>10000</td>\n",
       "      <td>6c1ce8d0a5a7acd9286561e0c6d85e0037e822119c7c64...</td>\n",
       "      <td>dbc8b144a92bab124ac8c809449e8920ec4546d33ff53e...</td>\n",
       "    </tr>\n",
       "    <tr>\n",
       "      <th>8</th>\n",
       "      <td>income</td>\n",
       "      <td>15000</td>\n",
       "      <td>043d714ef10a12ad1dc262426fe86f99cede54be033570...</td>\n",
       "      <td>41647d7c55586529a160583c445d011595e59248b5b53f...</td>\n",
       "    </tr>\n",
       "  </tbody>\n",
       "</table>\n",
       "</div>"
      ],
      "text/plain": [
       "  hashed_col         hashed_IN  \\\n",
       "0      email  albert@gmail.com   \n",
       "1      email  bree@hotmail.com   \n",
       "2      email    titan@live.com   \n",
       "3      email    epic@yahoo.com   \n",
       "4     income             25000   \n",
       "5     income             34000   \n",
       "6     income             31000   \n",
       "7     income             10000   \n",
       "8     income             15000   \n",
       "\n",
       "                                          hashed_val  \\\n",
       "0  23c7664365b6cc53d05084e2e549924066428e4497293f...   \n",
       "1  2c71853629bf444a4d057a831fb858f942165a8f4ec13a...   \n",
       "2  b83e0175ab52f28798344cdee4f2be32bef20b686f2026...   \n",
       "3  a719f2e5fb67e2b5517d6420b41bf764e63c5ddaf024d7...   \n",
       "4  8a6eb64b10d105b10dc416dc45ea9ac300d06373dbe76b...   \n",
       "5  d0e93ee1727efb3e3bb70973c666770b21151bacb50ef7...   \n",
       "6  b0d3c25e17b8dd755399b076cda630a7aa98f87d7d1996...   \n",
       "7  6c1ce8d0a5a7acd9286561e0c6d85e0037e822119c7c64...   \n",
       "8  043d714ef10a12ad1dc262426fe86f99cede54be033570...   \n",
       "\n",
       "                                                salt  \n",
       "0  71d88b98ae5a2dd5826110cb0de7ab286230b3b5d7a519...  \n",
       "1  f81384ff186e2cd8ef59f522c88f2fd02572360bcd83e4...  \n",
       "2  9f1fde1b4d1117e64b44bcf7028c3508ebb1896f8c9a03...  \n",
       "3  cfa2ff04c2834eae29264865efa4e4201786e45a37e386...  \n",
       "4  9966e949a5ce61e0760f6bdd6da38f8fa77449e241070d...  \n",
       "5  1bb334824a876c820442293b20270d7c8239a9eeba9581...  \n",
       "6  b98379e9932a0ddc2c19d6a53d4257014b64c06bbae46c...  \n",
       "7  dbc8b144a92bab124ac8c809449e8920ec4546d33ff53e...  \n",
       "8  41647d7c55586529a160583c445d011595e59248b5b53f...  "
      ]
     },
     "execution_count": 22,
     "metadata": {},
     "output_type": "execute_result"
    }
   ],
   "source": [
    "\n",
    "# Create DF to hold our secret lookup table.\n",
    "\n",
    "key_df = pd.DataFrame(columns = ['hashed_col', 'hashed_IN', 'hashed_val', 'salt']) \n",
    "\n",
    "# You can hash as many columns as you want\n",
    "# Make a copy of the input df if you don't want to overwrite the data\n",
    "df_hashed = df.copy()\n",
    "\n",
    "# Hashed email values\n",
    "the_colname = 'email'\n",
    "df_hashed.email = df_hashed.email.apply(lambda x: get_hashed_value(x, the_colname))\n",
    "\n",
    "# hashed income values\n",
    "the_colname = 'income'\n",
    "df_hashed.income = df_hashed.income.apply(lambda x: get_hashed_value(x, the_colname))\n",
    "\n",
    "\n",
    "print(\"\\n\\nHASHED DF\")\n",
    "print(df_hashed)\n",
    "\n",
    "print(\"\\n\\nSECRET SAUCE\")\n",
    "key_df"
   ]
  },
  {
   "cell_type": "markdown",
   "id": "fc5e8937",
   "metadata": {},
   "source": [
    "\n",
    "## Wrapping it up\n",
    "\n",
    "At this point you would check the hashed data `df_hashed`, save it to file, and then use it or share disclosing personally identifiable information. Store the input data and the code you used to hash and salt it on a secure server, but *not in the same server where the hashed data exists*.\n",
    "\n",
    "That being said, there is always a chance that someone could reverse engineer your hashing if they manage to figure out your hashing and salting method. When employing data security methods with highly restricted use data (P3 and above) your work should always be double-checked by a campus data security professional to be safe.\n"
   ]
  },
  {
   "cell_type": "markdown",
   "id": "181c53d3",
   "metadata": {},
   "source": [
    "References :\n",
    "\n",
    " https://korniichuk.medium.com/gdpr-guide-2-7c399b44ba3\n"
   ]
  },
  {
   "cell_type": "markdown",
   "id": "9becbbb5",
   "metadata": {},
   "source": [
    "\n",
    "\n",
    "---\n",
    "Created by Patty Frontiera, pfrontiera@berkeley.edu\n",
    "Last updated: 03/01/2022\n",
    "\n"
   ]
  },
  {
   "cell_type": "code",
   "execution_count": null,
   "id": "68c39e62",
   "metadata": {},
   "outputs": [],
   "source": []
  }
 ],
 "metadata": {
  "kernelspec": {
   "display_name": "Python 3 (ipykernel)",
   "language": "python",
   "name": "python3"
  },
  "language_info": {
   "codemirror_mode": {
    "name": "ipython",
    "version": 3
   },
   "file_extension": ".py",
   "mimetype": "text/x-python",
   "name": "python",
   "nbconvert_exporter": "python",
   "pygments_lexer": "ipython3",
   "version": "3.9.7"
  }
 },
 "nbformat": 4,
 "nbformat_minor": 5
}
